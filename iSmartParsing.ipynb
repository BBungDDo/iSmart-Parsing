#자동화를 위해 셀레니움(Selenium)을 불러옵니다.
from selenium import webdriver
from selenium.webdriver.common.keys import Keys
from selenium.webdriver.common.action_chains import ActionChains
from selenium.webdriver.support.ui import WebDriverWait
from selenium.webdriver.support import expected_conditions as EC
from selenium.webdriver.common.by import By
from time import sleep
import os

#엑셀 다운로드 경로를 설정합니다
file_path = 'C:/Users/MemeWe/Downloads'

# 크롬 웹 드라이버의 경로를 설정합니다.
driver = webdriver.Chrome('C:\Chrome_Driver\chromedriver.exe')

# 크롬을 통해 iSmart 로그인 화면에 접속합니다.
driver.get('https://pp.kepco.co.kr/')

# 아이디와 비밀번호를 입력하고 Enter key로 로그인합니다. (0.5초 기다리기)
sleep(0.5)
driver.find_element_by_id("RSA_USER_ID").send_keys('')
driver.find_element_by_id('RSA_USER_PWD').send_keys('')
driver.find_element_by_id('RSA_USER_PWD').send_keys(Keys.RETURN)

# 일별 데이터를 받으러 갑시다 (연도설정이 가능할 때까지 로딩 기다리기)
driver.get('https://pp.kepco.co.kr/rs/rs0102.do?menu_id=O010202')
WebDriverWait(driver, 10).until(EC.element_to_be_clickable((By.XPATH, '//*[@id="SEARCH_YEAR"]')))
sleep(1)

#2019~2021년으로 이동해 줍니다
years = [2019, 2020, 2021]
for year in years:
    driver.find_element_by_xpath('//*[@id="SEARCH_YEAR"]').send_keys(Keys.ENTER)
    driver.find_element_by_xpath(f'//*[@id="SEARCH_YEAR"]/option[@value={year}]').click()
    WebDriverWait(driver, 10).until(EC.element_to_be_clickable((By.XPATH, '//*[@id="SEARCH_MONTH"]')))
    sleep(0.5)
    
    #1~12월을 선택합니다
    months = [1,2,3,4,5,6,7,8,9,10,11,12]
    for month in months:
        driver.find_element_by_xpath('//*[@id="SEARCH_MONTH"]').send_keys(Keys.ENTER)
        driver.find_element_by_xpath(f'//*[@id="SEARCH_MONTH"]/option[{month}]').click()
        WebDriverWait(driver, 10).until(EC.element_to_be_clickable((By.XPATH, '//*[@id="txt"]/div[2]/div/p[2]/span[2]/a')))
        sleep(2)
        
        #이달의 엑셀을 다운로드하고 이름을 바꿔줍니다
        driver.find_element_by_xpath('//*[@id="txt"]/div[2]/div/p[2]/span[2]/a').click()
        WebDriverWait(driver, 10).until(EC.element_to_be_clickable((By.XPATH, '//*[@id="SEARCH_YEAR"]')))
        sleep(2)
        
        file_oldname = os.path.join(file_path, "실시간사용량_일별.xls")
        file_newname_newfile = os.path.join(file_path, f"{year}년 {month}월 실시간사용량_일별.xls")
        os.rename(file_oldname, file_newname_newfile)
        sleep(0.5)
        
        WebDriverWait(driver, 10).until(EC.element_to_be_clickable((By.XPATH, '//*[@id="SEARCH_YEAR"]')))
        sleep(0.5)
